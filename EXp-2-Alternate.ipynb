{
 "cells": [
  {
   "cell_type": "markdown",
   "id": "c3d36ecc",
   "metadata": {},
   "source": [
    "Q2. Convert text into tokens and print the tokens in the sentence."
   ]
  },
  {
   "cell_type": "code",
   "execution_count": 1,
   "id": "7373f163",
   "metadata": {},
   "outputs": [
    {
     "name": "stderr",
     "output_type": "stream",
     "text": [
      "[nltk_data] Downloading package punkt_tab to\n",
      "[nltk_data]     C:\\Users\\assen\\AppData\\Roaming\\nltk_data...\n",
      "[nltk_data]   Unzipping tokenizers\\punkt_tab.zip.\n"
     ]
    },
    {
     "data": {
      "text/plain": [
       "True"
      ]
     },
     "execution_count": 1,
     "metadata": {},
     "output_type": "execute_result"
    }
   ],
   "source": [
    "import nltk\n",
    "nltk.download('punkt_tab')"
   ]
  },
  {
   "cell_type": "code",
   "execution_count": 3,
   "id": "8ce62927",
   "metadata": {},
   "outputs": [
    {
     "name": "stdout",
     "output_type": "stream",
     "text": [
      "['Hello', ',', 'My', 'name', 'is', 'Swayam', 'Singh', '.']\n"
     ]
    }
   ],
   "source": [
    "long_text = \"Hello, My name is Swayam Singh.\"\n",
    "try:\n",
    "    import nltk\n",
    "    nltk.download('punkt', quiet=True)\n",
    "    from nltk.tokenize import word_tokenize\n",
    "    \n",
    "    words = word_tokenize(long_text)\n",
    "    print(words)\n",
    "    \n",
    "except LookupError:\n",
    "    print(\"Error: NLTK 'punkt' model not found.\")"
   ]
  },
  {
   "cell_type": "code",
   "execution_count": 4,
   "id": "1d52c7f9",
   "metadata": {},
   "outputs": [
    {
     "name": "stdout",
     "output_type": "stream",
     "text": [
      "['Hello, My name is Swayam Singh.']\n"
     ]
    }
   ],
   "source": [
    "long_text = \"Hello, My name is Swayam Singh.\"\n",
    "try:\n",
    "    import nltk\n",
    "    nltk.download('punkt', quiet=True)\n",
    "    from nltk.tokenize import sent_tokenize\n",
    "    \n",
    "    word = sent_tokenize(long_text)\n",
    "    print(word)\n",
    "    \n",
    "except LookupError:\n",
    "    print(\"Error: NLTK 'punkt' model not found.\")"
   ]
  }
 ],
 "metadata": {
  "kernelspec": {
   "display_name": "Python 3",
   "language": "python",
   "name": "python3"
  },
  "language_info": {
   "codemirror_mode": {
    "name": "ipython",
    "version": 3
   },
   "file_extension": ".py",
   "mimetype": "text/x-python",
   "name": "python",
   "nbconvert_exporter": "python",
   "pygments_lexer": "ipython3",
   "version": "3.11.0"
  }
 },
 "nbformat": 4,
 "nbformat_minor": 5
}
