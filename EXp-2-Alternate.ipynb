{
 "cells": [
  {
   "cell_type": "markdown",
   "id": "c3d36ecc",
   "metadata": {},
   "source": [
    "Q2. Convert text into tokens and print the tokens in the sentence."
   ]
  },
  {
   "cell_type": "code",
   "execution_count": 32,
   "id": "dedf513e",
   "metadata": {},
   "outputs": [],
   "source": [
    "import nltk\n",
    "from nltk.tokenize import word_tokenize"
   ]
  },
  {
   "cell_type": "code",
   "execution_count": null,
   "id": "e8dde48e",
   "metadata": {},
   "outputs": [],
   "source": [
    "text = \"Hello there! NLTK is a powerful library for Natural Language Processing.\"\n",
    "\n",
    "tokens = word_tokenize(text)\n",
    "print(tokens)"
   ]
  },
  {
   "cell_type": "code",
   "execution_count": 30,
   "id": "055be91e",
   "metadata": {},
   "outputs": [],
   "source": [
    "from nltk.tokenize import sent_tokenize"
   ]
  },
  {
   "cell_type": "code",
   "execution_count": null,
   "id": "cf473526",
   "metadata": {},
   "outputs": [],
   "source": [
    "long_text = \"NLTK is fantastic. It helps with many NLP tasks. You should try it!\"\n",
    "\n",
    "sentences = sent_tokenize(long_text)\n",
    "print(sentences)"
   ]
  }
 ],
 "metadata": {
  "kernelspec": {
   "display_name": "Python 3",
   "language": "python",
   "name": "python3"
  },
  "language_info": {
   "codemirror_mode": {
    "name": "ipython",
    "version": 3
   },
   "file_extension": ".py",
   "mimetype": "text/x-python",
   "name": "python",
   "nbconvert_exporter": "python",
   "pygments_lexer": "ipython3",
   "version": "3.13.5"
  }
 },
 "nbformat": 4,
 "nbformat_minor": 5
}
