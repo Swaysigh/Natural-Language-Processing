{
 "cells": [
  {
   "cell_type": "markdown",
   "id": "5763433e",
   "metadata": {},
   "source": [
    "Perform Stemming"
   ]
  },
  {
   "cell_type": "code",
   "execution_count": 1,
   "id": "2bce5e9e",
   "metadata": {},
   "outputs": [
    {
     "name": "stdout",
     "output_type": "stream",
     "text": [
      "Original Words: ['running', 'better', 'feet', 'studies']\n",
      "Stemmed Words: ['run', 'better', 'feet', 'studi']\n"
     ]
    }
   ],
   "source": [
    "from nltk.stem import PorterStemmer\n",
    "\n",
    "stemmer = PorterStemmer()\n",
    "\n",
    "words = [\"running\", \"better\", \"feet\", \"studies\"]\n",
    "stems = [stemmer.stem(word) for word in words]\n",
    "\n",
    "print(\"Original Words:\", words)\n",
    "print(\"Stemmed Words:\", stems)\n"
   ]
  }
 ],
 "metadata": {
  "kernelspec": {
   "display_name": "Python 3",
   "language": "python",
   "name": "python3"
  },
  "language_info": {
   "codemirror_mode": {
    "name": "ipython",
    "version": 3
   },
   "file_extension": ".py",
   "mimetype": "text/x-python",
   "name": "python",
   "nbconvert_exporter": "python",
   "pygments_lexer": "ipython3",
   "version": "3.11.0"
  }
 },
 "nbformat": 4,
 "nbformat_minor": 5
}
