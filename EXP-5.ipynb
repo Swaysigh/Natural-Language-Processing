{
 "cells": [
  {
   "cell_type": "markdown",
   "id": "c984c2e9",
   "metadata": {},
   "source": [
    "Generate regular expression for given text."
   ]
  },
  {
   "cell_type": "code",
   "execution_count": null,
   "id": "85d1f1c3",
   "metadata": {},
   "outputs": [
    {
     "name": "stdout",
     "output_type": "stream",
     "text": [
      "Emails: ['test123@example.com']\n",
      "Phone Numbers: ['9876543210']\n"
     ]
    }
   ],
   "source": [
    "import re\n",
    "\n",
    "text = \"My email is Swayam123@example.com and my phone number is 9876543210.\"\n",
    "\n",
    "# Extract email\n",
    "email_pattern = r\"[a-zA-Z0-9._%+-]+@[a-zA-Z0-9.-]+\\.[a-z]{2,}\"\n",
    "emails = re.findall(email_pattern, text)\n",
    "\n",
    "# Extract phone number\n",
    "phone_pattern = r\"\\d{10}\"\n",
    "phones = re.findall(phone_pattern, text)\n",
    "\n",
    "print(\"Emails:\", emails)\n",
    "print(\"Phone Numbers:\", phones)\n"
   ]
  }
 ],
 "metadata": {
  "kernelspec": {
   "display_name": "Python 3",
   "language": "python",
   "name": "python3"
  },
  "language_info": {
   "codemirror_mode": {
    "name": "ipython",
    "version": 3
   },
   "file_extension": ".py",
   "mimetype": "text/x-python",
   "name": "python",
   "nbconvert_exporter": "python",
   "pygments_lexer": "ipython3",
   "version": "3.11.0"
  }
 },
 "nbformat": 4,
 "nbformat_minor": 5
}
